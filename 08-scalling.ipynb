{
 "cells": [
  {
   "cell_type": "code",
   "execution_count": 1,
   "id": "f341320f",
   "metadata": {
    "_cell_guid": "b1076dfc-b9ad-4769-8c92-a6c4dae69d19",
    "_uuid": "8f2839f25d086af736a60e9eeb907d3b93b6e0e5",
    "execution": {
     "iopub.execute_input": "2024-06-13T09:43:17.839147Z",
     "iopub.status.busy": "2024-06-13T09:43:17.837979Z",
     "iopub.status.idle": "2024-06-13T09:43:18.659856Z",
     "shell.execute_reply": "2024-06-13T09:43:18.658653Z"
    },
    "papermill": {
     "duration": 0.832761,
     "end_time": "2024-06-13T09:43:18.662416",
     "exception": false,
     "start_time": "2024-06-13T09:43:17.829655",
     "status": "completed"
    },
    "tags": []
   },
   "outputs": [
    {
     "name": "stdout",
     "output_type": "stream",
     "text": [
      "/kaggle/input/social-network-ads/Social_Network_Ads.csv\n"
     ]
    }
   ],
   "source": [
    "# This Python 3 environment comes with many helpful analytics libraries installed\n",
    "# It is defined by the kaggle/python Docker image: https://github.com/kaggle/docker-python\n",
    "# For example, here's several helpful packages to load\n",
    "\n",
    "import numpy as np # linear algebra\n",
    "import pandas as pd # data processing, CSV file I/O (e.g. pd.read_csv)\n",
    "\n",
    "# Input data files are available in the read-only \"../input/\" directory\n",
    "# For example, running this (by clicking run or pressing Shift+Enter) will list all files under the input directory\n",
    "\n",
    "import os\n",
    "for dirname, _, filenames in os.walk('/kaggle/input'):\n",
    "    for filename in filenames:\n",
    "        print(os.path.join(dirname, filename))\n",
    "\n",
    "# You can write up to 20GB to the current directory (/kaggle/working/) that gets preserved as output when you create a version using \"Save & Run All\" \n",
    "# You can also write temporary files to /kaggle/temp/, but they won't be saved outside of the current session"
   ]
  },
  {
   "cell_type": "markdown",
   "id": "98f45ca6",
   "metadata": {
    "papermill": {
     "duration": 0.005865,
     "end_time": "2024-06-13T09:43:18.674744",
     "exception": false,
     "start_time": "2024-06-13T09:43:18.668879",
     "status": "completed"
    },
    "tags": []
   },
   "source": [
    "## Import Libraries"
   ]
  },
  {
   "cell_type": "code",
   "execution_count": 2,
   "id": "d4b56d2a",
   "metadata": {
    "execution": {
     "iopub.execute_input": "2024-06-13T09:43:18.689398Z",
     "iopub.status.busy": "2024-06-13T09:43:18.688888Z",
     "iopub.status.idle": "2024-06-13T09:43:20.411882Z",
     "shell.execute_reply": "2024-06-13T09:43:20.410655Z"
    },
    "papermill": {
     "duration": 1.733233,
     "end_time": "2024-06-13T09:43:20.414456",
     "exception": false,
     "start_time": "2024-06-13T09:43:18.681223",
     "status": "completed"
    },
    "tags": []
   },
   "outputs": [],
   "source": [
    "import numpy as np\n",
    "import pandas as pd\n",
    "import matplotlib.pyplot as plt\n",
    "import seaborn as sns\n",
    "from sklearn.model_selection import train_test_split\n",
    "from sklearn.neighbors import KNeighborsClassifier"
   ]
  },
  {
   "cell_type": "markdown",
   "id": "de6359f3",
   "metadata": {
    "papermill": {
     "duration": 0.00583,
     "end_time": "2024-06-13T09:43:20.426587",
     "exception": false,
     "start_time": "2024-06-13T09:43:20.420757",
     "status": "completed"
    },
    "tags": []
   },
   "source": [
    "## Read Dataset"
   ]
  },
  {
   "cell_type": "code",
   "execution_count": 3,
   "id": "518b3099",
   "metadata": {
    "execution": {
     "iopub.execute_input": "2024-06-13T09:43:20.440958Z",
     "iopub.status.busy": "2024-06-13T09:43:20.440108Z",
     "iopub.status.idle": "2024-06-13T09:43:20.474311Z",
     "shell.execute_reply": "2024-06-13T09:43:20.473060Z"
    },
    "papermill": {
     "duration": 0.044158,
     "end_time": "2024-06-13T09:43:20.476782",
     "exception": false,
     "start_time": "2024-06-13T09:43:20.432624",
     "status": "completed"
    },
    "tags": []
   },
   "outputs": [
    {
     "data": {
      "text/html": [
       "<div>\n",
       "<style scoped>\n",
       "    .dataframe tbody tr th:only-of-type {\n",
       "        vertical-align: middle;\n",
       "    }\n",
       "\n",
       "    .dataframe tbody tr th {\n",
       "        vertical-align: top;\n",
       "    }\n",
       "\n",
       "    .dataframe thead th {\n",
       "        text-align: right;\n",
       "    }\n",
       "</style>\n",
       "<table border=\"1\" class=\"dataframe\">\n",
       "  <thead>\n",
       "    <tr style=\"text-align: right;\">\n",
       "      <th></th>\n",
       "      <th>User ID</th>\n",
       "      <th>Gender</th>\n",
       "      <th>Age</th>\n",
       "      <th>EstimatedSalary</th>\n",
       "      <th>Purchased</th>\n",
       "    </tr>\n",
       "  </thead>\n",
       "  <tbody>\n",
       "    <tr>\n",
       "      <th>0</th>\n",
       "      <td>15624510</td>\n",
       "      <td>Male</td>\n",
       "      <td>19</td>\n",
       "      <td>19000</td>\n",
       "      <td>0</td>\n",
       "    </tr>\n",
       "    <tr>\n",
       "      <th>1</th>\n",
       "      <td>15810944</td>\n",
       "      <td>Male</td>\n",
       "      <td>35</td>\n",
       "      <td>20000</td>\n",
       "      <td>0</td>\n",
       "    </tr>\n",
       "    <tr>\n",
       "      <th>2</th>\n",
       "      <td>15668575</td>\n",
       "      <td>Female</td>\n",
       "      <td>26</td>\n",
       "      <td>43000</td>\n",
       "      <td>0</td>\n",
       "    </tr>\n",
       "    <tr>\n",
       "      <th>3</th>\n",
       "      <td>15603246</td>\n",
       "      <td>Female</td>\n",
       "      <td>27</td>\n",
       "      <td>57000</td>\n",
       "      <td>0</td>\n",
       "    </tr>\n",
       "    <tr>\n",
       "      <th>4</th>\n",
       "      <td>15804002</td>\n",
       "      <td>Male</td>\n",
       "      <td>19</td>\n",
       "      <td>76000</td>\n",
       "      <td>0</td>\n",
       "    </tr>\n",
       "    <tr>\n",
       "      <th>5</th>\n",
       "      <td>15728773</td>\n",
       "      <td>Male</td>\n",
       "      <td>27</td>\n",
       "      <td>58000</td>\n",
       "      <td>0</td>\n",
       "    </tr>\n",
       "    <tr>\n",
       "      <th>6</th>\n",
       "      <td>15598044</td>\n",
       "      <td>Female</td>\n",
       "      <td>27</td>\n",
       "      <td>84000</td>\n",
       "      <td>0</td>\n",
       "    </tr>\n",
       "    <tr>\n",
       "      <th>7</th>\n",
       "      <td>15694829</td>\n",
       "      <td>Female</td>\n",
       "      <td>32</td>\n",
       "      <td>150000</td>\n",
       "      <td>1</td>\n",
       "    </tr>\n",
       "    <tr>\n",
       "      <th>8</th>\n",
       "      <td>15600575</td>\n",
       "      <td>Male</td>\n",
       "      <td>25</td>\n",
       "      <td>33000</td>\n",
       "      <td>0</td>\n",
       "    </tr>\n",
       "    <tr>\n",
       "      <th>9</th>\n",
       "      <td>15727311</td>\n",
       "      <td>Female</td>\n",
       "      <td>35</td>\n",
       "      <td>65000</td>\n",
       "      <td>0</td>\n",
       "    </tr>\n",
       "  </tbody>\n",
       "</table>\n",
       "</div>"
      ],
      "text/plain": [
       "    User ID  Gender  Age  EstimatedSalary  Purchased\n",
       "0  15624510    Male   19            19000          0\n",
       "1  15810944    Male   35            20000          0\n",
       "2  15668575  Female   26            43000          0\n",
       "3  15603246  Female   27            57000          0\n",
       "4  15804002    Male   19            76000          0\n",
       "5  15728773    Male   27            58000          0\n",
       "6  15598044  Female   27            84000          0\n",
       "7  15694829  Female   32           150000          1\n",
       "8  15600575    Male   25            33000          0\n",
       "9  15727311  Female   35            65000          0"
      ]
     },
     "execution_count": 3,
     "metadata": {},
     "output_type": "execute_result"
    }
   ],
   "source": [
    "df = pd.read_csv('/kaggle/input/social-network-ads/Social_Network_Ads.csv')\n",
    "df.head(10)"
   ]
  },
  {
   "cell_type": "code",
   "execution_count": 4,
   "id": "4c3eeab8",
   "metadata": {
    "execution": {
     "iopub.execute_input": "2024-06-13T09:43:20.491359Z",
     "iopub.status.busy": "2024-06-13T09:43:20.490975Z",
     "iopub.status.idle": "2024-06-13T09:43:20.515403Z",
     "shell.execute_reply": "2024-06-13T09:43:20.513895Z"
    },
    "papermill": {
     "duration": 0.03503,
     "end_time": "2024-06-13T09:43:20.518319",
     "exception": false,
     "start_time": "2024-06-13T09:43:20.483289",
     "status": "completed"
    },
    "tags": []
   },
   "outputs": [
    {
     "name": "stdout",
     "output_type": "stream",
     "text": [
      "<class 'pandas.core.frame.DataFrame'>\n",
      "RangeIndex: 400 entries, 0 to 399\n",
      "Data columns (total 5 columns):\n",
      " #   Column           Non-Null Count  Dtype \n",
      "---  ------           --------------  ----- \n",
      " 0   User ID          400 non-null    int64 \n",
      " 1   Gender           400 non-null    object\n",
      " 2   Age              400 non-null    int64 \n",
      " 3   EstimatedSalary  400 non-null    int64 \n",
      " 4   Purchased        400 non-null    int64 \n",
      "dtypes: int64(4), object(1)\n",
      "memory usage: 15.8+ KB\n"
     ]
    }
   ],
   "source": [
    "df.info()"
   ]
  },
  {
   "cell_type": "markdown",
   "id": "68ce5516",
   "metadata": {
    "papermill": {
     "duration": 0.006303,
     "end_time": "2024-06-13T09:43:20.531251",
     "exception": false,
     "start_time": "2024-06-13T09:43:20.524948",
     "status": "completed"
    },
    "tags": []
   },
   "source": [
    "## Encoding"
   ]
  },
  {
   "cell_type": "code",
   "execution_count": 5,
   "id": "82be1dd2",
   "metadata": {
    "execution": {
     "iopub.execute_input": "2024-06-13T09:43:20.546352Z",
     "iopub.status.busy": "2024-06-13T09:43:20.545944Z",
     "iopub.status.idle": "2024-06-13T09:43:20.557784Z",
     "shell.execute_reply": "2024-06-13T09:43:20.556585Z"
    },
    "papermill": {
     "duration": 0.022429,
     "end_time": "2024-06-13T09:43:20.560368",
     "exception": false,
     "start_time": "2024-06-13T09:43:20.537939",
     "status": "completed"
    },
    "tags": []
   },
   "outputs": [],
   "source": [
    "df = pd.get_dummies(data=df,columns=['Gender'],drop_first=True)"
   ]
  },
  {
   "cell_type": "code",
   "execution_count": 6,
   "id": "7c5837a1",
   "metadata": {
    "execution": {
     "iopub.execute_input": "2024-06-13T09:43:20.575730Z",
     "iopub.status.busy": "2024-06-13T09:43:20.574674Z",
     "iopub.status.idle": "2024-06-13T09:43:20.586858Z",
     "shell.execute_reply": "2024-06-13T09:43:20.585856Z"
    },
    "papermill": {
     "duration": 0.022144,
     "end_time": "2024-06-13T09:43:20.589103",
     "exception": false,
     "start_time": "2024-06-13T09:43:20.566959",
     "status": "completed"
    },
    "tags": []
   },
   "outputs": [
    {
     "data": {
      "text/html": [
       "<div>\n",
       "<style scoped>\n",
       "    .dataframe tbody tr th:only-of-type {\n",
       "        vertical-align: middle;\n",
       "    }\n",
       "\n",
       "    .dataframe tbody tr th {\n",
       "        vertical-align: top;\n",
       "    }\n",
       "\n",
       "    .dataframe thead th {\n",
       "        text-align: right;\n",
       "    }\n",
       "</style>\n",
       "<table border=\"1\" class=\"dataframe\">\n",
       "  <thead>\n",
       "    <tr style=\"text-align: right;\">\n",
       "      <th></th>\n",
       "      <th>User ID</th>\n",
       "      <th>Age</th>\n",
       "      <th>EstimatedSalary</th>\n",
       "      <th>Purchased</th>\n",
       "      <th>Gender_Male</th>\n",
       "    </tr>\n",
       "  </thead>\n",
       "  <tbody>\n",
       "    <tr>\n",
       "      <th>0</th>\n",
       "      <td>15624510</td>\n",
       "      <td>19</td>\n",
       "      <td>19000</td>\n",
       "      <td>0</td>\n",
       "      <td>True</td>\n",
       "    </tr>\n",
       "    <tr>\n",
       "      <th>1</th>\n",
       "      <td>15810944</td>\n",
       "      <td>35</td>\n",
       "      <td>20000</td>\n",
       "      <td>0</td>\n",
       "      <td>True</td>\n",
       "    </tr>\n",
       "    <tr>\n",
       "      <th>2</th>\n",
       "      <td>15668575</td>\n",
       "      <td>26</td>\n",
       "      <td>43000</td>\n",
       "      <td>0</td>\n",
       "      <td>False</td>\n",
       "    </tr>\n",
       "    <tr>\n",
       "      <th>3</th>\n",
       "      <td>15603246</td>\n",
       "      <td>27</td>\n",
       "      <td>57000</td>\n",
       "      <td>0</td>\n",
       "      <td>False</td>\n",
       "    </tr>\n",
       "    <tr>\n",
       "      <th>4</th>\n",
       "      <td>15804002</td>\n",
       "      <td>19</td>\n",
       "      <td>76000</td>\n",
       "      <td>0</td>\n",
       "      <td>True</td>\n",
       "    </tr>\n",
       "  </tbody>\n",
       "</table>\n",
       "</div>"
      ],
      "text/plain": [
       "    User ID  Age  EstimatedSalary  Purchased  Gender_Male\n",
       "0  15624510   19            19000          0         True\n",
       "1  15810944   35            20000          0         True\n",
       "2  15668575   26            43000          0        False\n",
       "3  15603246   27            57000          0        False\n",
       "4  15804002   19            76000          0         True"
      ]
     },
     "execution_count": 6,
     "metadata": {},
     "output_type": "execute_result"
    }
   ],
   "source": [
    "df.head()"
   ]
  },
  {
   "cell_type": "markdown",
   "id": "4308b0bc",
   "metadata": {
    "papermill": {
     "duration": 0.00639,
     "end_time": "2024-06-13T09:43:20.602239",
     "exception": false,
     "start_time": "2024-06-13T09:43:20.595849",
     "status": "completed"
    },
    "tags": []
   },
   "source": [
    "## Asign x,y"
   ]
  },
  {
   "cell_type": "code",
   "execution_count": 7,
   "id": "629f666a",
   "metadata": {
    "execution": {
     "iopub.execute_input": "2024-06-13T09:43:20.617855Z",
     "iopub.status.busy": "2024-06-13T09:43:20.616720Z",
     "iopub.status.idle": "2024-06-13T09:43:20.623594Z",
     "shell.execute_reply": "2024-06-13T09:43:20.622611Z"
    },
    "papermill": {
     "duration": 0.017098,
     "end_time": "2024-06-13T09:43:20.625971",
     "exception": false,
     "start_time": "2024-06-13T09:43:20.608873",
     "status": "completed"
    },
    "tags": []
   },
   "outputs": [],
   "source": [
    "x = df[['Age','EstimatedSalary','Gender_Male']]\n",
    "y = df['Purchased']"
   ]
  },
  {
   "cell_type": "markdown",
   "id": "a6056d87",
   "metadata": {
    "papermill": {
     "duration": 0.006261,
     "end_time": "2024-06-13T09:43:20.639051",
     "exception": false,
     "start_time": "2024-06-13T09:43:20.632790",
     "status": "completed"
    },
    "tags": []
   },
   "source": [
    "## Split train and test"
   ]
  },
  {
   "cell_type": "code",
   "execution_count": 8,
   "id": "c80c8e9f",
   "metadata": {
    "execution": {
     "iopub.execute_input": "2024-06-13T09:43:20.654753Z",
     "iopub.status.busy": "2024-06-13T09:43:20.654359Z",
     "iopub.status.idle": "2024-06-13T09:43:20.663884Z",
     "shell.execute_reply": "2024-06-13T09:43:20.662700Z"
    },
    "papermill": {
     "duration": 0.020183,
     "end_time": "2024-06-13T09:43:20.666275",
     "exception": false,
     "start_time": "2024-06-13T09:43:20.646092",
     "status": "completed"
    },
    "tags": []
   },
   "outputs": [],
   "source": [
    "X_train, X_test, y_train, y_test = train_test_split(x, y, test_size=0.20)"
   ]
  },
  {
   "cell_type": "markdown",
   "id": "583eaf2c",
   "metadata": {
    "papermill": {
     "duration": 0.006288,
     "end_time": "2024-06-13T09:43:20.679504",
     "exception": false,
     "start_time": "2024-06-13T09:43:20.673216",
     "status": "completed"
    },
    "tags": []
   },
   "source": [
    "## Building Model"
   ]
  },
  {
   "cell_type": "code",
   "execution_count": 9,
   "id": "19be5cca",
   "metadata": {
    "execution": {
     "iopub.execute_input": "2024-06-13T09:43:20.694656Z",
     "iopub.status.busy": "2024-06-13T09:43:20.693860Z",
     "iopub.status.idle": "2024-06-13T09:43:20.706472Z",
     "shell.execute_reply": "2024-06-13T09:43:20.705429Z"
    },
    "papermill": {
     "duration": 0.022995,
     "end_time": "2024-06-13T09:43:20.709051",
     "exception": false,
     "start_time": "2024-06-13T09:43:20.686056",
     "status": "completed"
    },
    "tags": []
   },
   "outputs": [
    {
     "data": {
      "text/html": [
       "<style>#sk-container-id-1 {color: black;background-color: white;}#sk-container-id-1 pre{padding: 0;}#sk-container-id-1 div.sk-toggleable {background-color: white;}#sk-container-id-1 label.sk-toggleable__label {cursor: pointer;display: block;width: 100%;margin-bottom: 0;padding: 0.3em;box-sizing: border-box;text-align: center;}#sk-container-id-1 label.sk-toggleable__label-arrow:before {content: \"▸\";float: left;margin-right: 0.25em;color: #696969;}#sk-container-id-1 label.sk-toggleable__label-arrow:hover:before {color: black;}#sk-container-id-1 div.sk-estimator:hover label.sk-toggleable__label-arrow:before {color: black;}#sk-container-id-1 div.sk-toggleable__content {max-height: 0;max-width: 0;overflow: hidden;text-align: left;background-color: #f0f8ff;}#sk-container-id-1 div.sk-toggleable__content pre {margin: 0.2em;color: black;border-radius: 0.25em;background-color: #f0f8ff;}#sk-container-id-1 input.sk-toggleable__control:checked~div.sk-toggleable__content {max-height: 200px;max-width: 100%;overflow: auto;}#sk-container-id-1 input.sk-toggleable__control:checked~label.sk-toggleable__label-arrow:before {content: \"▾\";}#sk-container-id-1 div.sk-estimator input.sk-toggleable__control:checked~label.sk-toggleable__label {background-color: #d4ebff;}#sk-container-id-1 div.sk-label input.sk-toggleable__control:checked~label.sk-toggleable__label {background-color: #d4ebff;}#sk-container-id-1 input.sk-hidden--visually {border: 0;clip: rect(1px 1px 1px 1px);clip: rect(1px, 1px, 1px, 1px);height: 1px;margin: -1px;overflow: hidden;padding: 0;position: absolute;width: 1px;}#sk-container-id-1 div.sk-estimator {font-family: monospace;background-color: #f0f8ff;border: 1px dotted black;border-radius: 0.25em;box-sizing: border-box;margin-bottom: 0.5em;}#sk-container-id-1 div.sk-estimator:hover {background-color: #d4ebff;}#sk-container-id-1 div.sk-parallel-item::after {content: \"\";width: 100%;border-bottom: 1px solid gray;flex-grow: 1;}#sk-container-id-1 div.sk-label:hover label.sk-toggleable__label {background-color: #d4ebff;}#sk-container-id-1 div.sk-serial::before {content: \"\";position: absolute;border-left: 1px solid gray;box-sizing: border-box;top: 0;bottom: 0;left: 50%;z-index: 0;}#sk-container-id-1 div.sk-serial {display: flex;flex-direction: column;align-items: center;background-color: white;padding-right: 0.2em;padding-left: 0.2em;position: relative;}#sk-container-id-1 div.sk-item {position: relative;z-index: 1;}#sk-container-id-1 div.sk-parallel {display: flex;align-items: stretch;justify-content: center;background-color: white;position: relative;}#sk-container-id-1 div.sk-item::before, #sk-container-id-1 div.sk-parallel-item::before {content: \"\";position: absolute;border-left: 1px solid gray;box-sizing: border-box;top: 0;bottom: 0;left: 50%;z-index: -1;}#sk-container-id-1 div.sk-parallel-item {display: flex;flex-direction: column;z-index: 1;position: relative;background-color: white;}#sk-container-id-1 div.sk-parallel-item:first-child::after {align-self: flex-end;width: 50%;}#sk-container-id-1 div.sk-parallel-item:last-child::after {align-self: flex-start;width: 50%;}#sk-container-id-1 div.sk-parallel-item:only-child::after {width: 0;}#sk-container-id-1 div.sk-dashed-wrapped {border: 1px dashed gray;margin: 0 0.4em 0.5em 0.4em;box-sizing: border-box;padding-bottom: 0.4em;background-color: white;}#sk-container-id-1 div.sk-label label {font-family: monospace;font-weight: bold;display: inline-block;line-height: 1.2em;}#sk-container-id-1 div.sk-label-container {text-align: center;}#sk-container-id-1 div.sk-container {/* jupyter's `normalize.less` sets `[hidden] { display: none; }` but bootstrap.min.css set `[hidden] { display: none !important; }` so we also need the `!important` here to be able to override the default hidden behavior on the sphinx rendered scikit-learn.org. See: https://github.com/scikit-learn/scikit-learn/issues/21755 */display: inline-block !important;position: relative;}#sk-container-id-1 div.sk-text-repr-fallback {display: none;}</style><div id=\"sk-container-id-1\" class=\"sk-top-container\"><div class=\"sk-text-repr-fallback\"><pre>KNeighborsClassifier()</pre><b>In a Jupyter environment, please rerun this cell to show the HTML representation or trust the notebook. <br />On GitHub, the HTML representation is unable to render, please try loading this page with nbviewer.org.</b></div><div class=\"sk-container\" hidden><div class=\"sk-item\"><div class=\"sk-estimator sk-toggleable\"><input class=\"sk-toggleable__control sk-hidden--visually\" id=\"sk-estimator-id-1\" type=\"checkbox\" checked><label for=\"sk-estimator-id-1\" class=\"sk-toggleable__label sk-toggleable__label-arrow\">KNeighborsClassifier</label><div class=\"sk-toggleable__content\"><pre>KNeighborsClassifier()</pre></div></div></div></div></div>"
      ],
      "text/plain": [
       "KNeighborsClassifier()"
      ]
     },
     "execution_count": 9,
     "metadata": {},
     "output_type": "execute_result"
    }
   ],
   "source": [
    "model = KNeighborsClassifier(n_neighbors=5)\n",
    "model.fit(X_train , y_train)"
   ]
  },
  {
   "cell_type": "markdown",
   "id": "032966dc",
   "metadata": {
    "papermill": {
     "duration": 0.006543,
     "end_time": "2024-06-13T09:43:20.723129",
     "exception": false,
     "start_time": "2024-06-13T09:43:20.716586",
     "status": "completed"
    },
    "tags": []
   },
   "source": [
    "## get Y_predict"
   ]
  },
  {
   "cell_type": "code",
   "execution_count": 10,
   "id": "7feb575a",
   "metadata": {
    "execution": {
     "iopub.execute_input": "2024-06-13T09:43:20.738538Z",
     "iopub.status.busy": "2024-06-13T09:43:20.738172Z",
     "iopub.status.idle": "2024-06-13T09:43:20.755723Z",
     "shell.execute_reply": "2024-06-13T09:43:20.754377Z"
    },
    "papermill": {
     "duration": 0.028479,
     "end_time": "2024-06-13T09:43:20.758454",
     "exception": false,
     "start_time": "2024-06-13T09:43:20.729975",
     "status": "completed"
    },
    "tags": []
   },
   "outputs": [
    {
     "data": {
      "text/plain": [
       "array([0, 0, 0, 0, 1, 0, 1, 0, 0, 0, 0, 0, 0, 0, 1, 0, 0, 0, 0, 0, 1, 0,\n",
       "       0, 1, 0, 1, 0, 0, 1, 0, 0, 0, 1, 1, 0, 0, 1, 0, 0, 0, 0, 0, 0, 0,\n",
       "       0, 0, 0, 0, 0, 0, 0, 1, 0, 0, 0, 0, 0, 0, 0, 0, 0, 0, 0, 1, 0, 0,\n",
       "       0, 1, 0, 1, 0, 0, 0, 0, 0, 0, 0, 0, 0, 0])"
      ]
     },
     "execution_count": 10,
     "metadata": {},
     "output_type": "execute_result"
    }
   ],
   "source": [
    "y_pred = model.predict(X_test)\n",
    "y_pred"
   ]
  },
  {
   "cell_type": "code",
   "execution_count": 11,
   "id": "bb1a89aa",
   "metadata": {
    "execution": {
     "iopub.execute_input": "2024-06-13T09:43:20.774320Z",
     "iopub.status.busy": "2024-06-13T09:43:20.773936Z",
     "iopub.status.idle": "2024-06-13T09:43:20.778692Z",
     "shell.execute_reply": "2024-06-13T09:43:20.777629Z"
    },
    "papermill": {
     "duration": 0.015271,
     "end_time": "2024-06-13T09:43:20.780940",
     "exception": false,
     "start_time": "2024-06-13T09:43:20.765669",
     "status": "completed"
    },
    "tags": []
   },
   "outputs": [],
   "source": [
    "from sklearn.metrics import accuracy_score"
   ]
  },
  {
   "cell_type": "markdown",
   "id": "17b36182",
   "metadata": {
    "papermill": {
     "duration": 0.006822,
     "end_time": "2024-06-13T09:43:20.794933",
     "exception": false,
     "start_time": "2024-06-13T09:43:20.788111",
     "status": "completed"
    },
    "tags": []
   },
   "source": [
    "## Accuracy between y tes and predict"
   ]
  },
  {
   "cell_type": "code",
   "execution_count": 12,
   "id": "6fe810da",
   "metadata": {
    "execution": {
     "iopub.execute_input": "2024-06-13T09:43:20.810670Z",
     "iopub.status.busy": "2024-06-13T09:43:20.810245Z",
     "iopub.status.idle": "2024-06-13T09:43:20.818713Z",
     "shell.execute_reply": "2024-06-13T09:43:20.817484Z"
    },
    "papermill": {
     "duration": 0.01889,
     "end_time": "2024-06-13T09:43:20.820888",
     "exception": false,
     "start_time": "2024-06-13T09:43:20.801998",
     "status": "completed"
    },
    "tags": []
   },
   "outputs": [
    {
     "data": {
      "text/plain": [
       "0.75"
      ]
     },
     "execution_count": 12,
     "metadata": {},
     "output_type": "execute_result"
    }
   ],
   "source": [
    "accuracy_score(y_test , y_pred)"
   ]
  },
  {
   "cell_type": "markdown",
   "id": "d280a3a4",
   "metadata": {
    "papermill": {
     "duration": 0.007276,
     "end_time": "2024-06-13T09:43:20.835328",
     "exception": false,
     "start_time": "2024-06-13T09:43:20.828052",
     "status": "completed"
    },
    "tags": []
   },
   "source": [
    "## note 0.7875 score is before scalling we need to see score after scalling"
   ]
  },
  {
   "cell_type": "code",
   "execution_count": 13,
   "id": "7c4368ee",
   "metadata": {
    "execution": {
     "iopub.execute_input": "2024-06-13T09:43:20.852762Z",
     "iopub.status.busy": "2024-06-13T09:43:20.851698Z",
     "iopub.status.idle": "2024-06-13T09:43:20.861408Z",
     "shell.execute_reply": "2024-06-13T09:43:20.860288Z"
    },
    "papermill": {
     "duration": 0.020613,
     "end_time": "2024-06-13T09:43:20.863718",
     "exception": false,
     "start_time": "2024-06-13T09:43:20.843105",
     "status": "completed"
    },
    "tags": []
   },
   "outputs": [],
   "source": [
    "from sklearn.preprocessing import StandardScaler\n",
    "\n",
    "scaler = StandardScaler()\n",
    "x = scaler.fit_transform(x)"
   ]
  },
  {
   "cell_type": "code",
   "execution_count": 14,
   "id": "71880e58",
   "metadata": {
    "execution": {
     "iopub.execute_input": "2024-06-13T09:43:20.880159Z",
     "iopub.status.busy": "2024-06-13T09:43:20.879432Z",
     "iopub.status.idle": "2024-06-13T09:43:20.886755Z",
     "shell.execute_reply": "2024-06-13T09:43:20.885680Z"
    },
    "papermill": {
     "duration": 0.018201,
     "end_time": "2024-06-13T09:43:20.889186",
     "exception": false,
     "start_time": "2024-06-13T09:43:20.870985",
     "status": "completed"
    },
    "tags": []
   },
   "outputs": [],
   "source": [
    "X_train, X_test, y_train, y_test = train_test_split(x, y, test_size=0.20)"
   ]
  },
  {
   "cell_type": "code",
   "execution_count": 15,
   "id": "2a947a21",
   "metadata": {
    "execution": {
     "iopub.execute_input": "2024-06-13T09:43:20.905850Z",
     "iopub.status.busy": "2024-06-13T09:43:20.905430Z",
     "iopub.status.idle": "2024-06-13T09:43:20.915500Z",
     "shell.execute_reply": "2024-06-13T09:43:20.914193Z"
    },
    "papermill": {
     "duration": 0.021532,
     "end_time": "2024-06-13T09:43:20.917997",
     "exception": false,
     "start_time": "2024-06-13T09:43:20.896465",
     "status": "completed"
    },
    "tags": []
   },
   "outputs": [
    {
     "data": {
      "text/html": [
       "<style>#sk-container-id-2 {color: black;background-color: white;}#sk-container-id-2 pre{padding: 0;}#sk-container-id-2 div.sk-toggleable {background-color: white;}#sk-container-id-2 label.sk-toggleable__label {cursor: pointer;display: block;width: 100%;margin-bottom: 0;padding: 0.3em;box-sizing: border-box;text-align: center;}#sk-container-id-2 label.sk-toggleable__label-arrow:before {content: \"▸\";float: left;margin-right: 0.25em;color: #696969;}#sk-container-id-2 label.sk-toggleable__label-arrow:hover:before {color: black;}#sk-container-id-2 div.sk-estimator:hover label.sk-toggleable__label-arrow:before {color: black;}#sk-container-id-2 div.sk-toggleable__content {max-height: 0;max-width: 0;overflow: hidden;text-align: left;background-color: #f0f8ff;}#sk-container-id-2 div.sk-toggleable__content pre {margin: 0.2em;color: black;border-radius: 0.25em;background-color: #f0f8ff;}#sk-container-id-2 input.sk-toggleable__control:checked~div.sk-toggleable__content {max-height: 200px;max-width: 100%;overflow: auto;}#sk-container-id-2 input.sk-toggleable__control:checked~label.sk-toggleable__label-arrow:before {content: \"▾\";}#sk-container-id-2 div.sk-estimator input.sk-toggleable__control:checked~label.sk-toggleable__label {background-color: #d4ebff;}#sk-container-id-2 div.sk-label input.sk-toggleable__control:checked~label.sk-toggleable__label {background-color: #d4ebff;}#sk-container-id-2 input.sk-hidden--visually {border: 0;clip: rect(1px 1px 1px 1px);clip: rect(1px, 1px, 1px, 1px);height: 1px;margin: -1px;overflow: hidden;padding: 0;position: absolute;width: 1px;}#sk-container-id-2 div.sk-estimator {font-family: monospace;background-color: #f0f8ff;border: 1px dotted black;border-radius: 0.25em;box-sizing: border-box;margin-bottom: 0.5em;}#sk-container-id-2 div.sk-estimator:hover {background-color: #d4ebff;}#sk-container-id-2 div.sk-parallel-item::after {content: \"\";width: 100%;border-bottom: 1px solid gray;flex-grow: 1;}#sk-container-id-2 div.sk-label:hover label.sk-toggleable__label {background-color: #d4ebff;}#sk-container-id-2 div.sk-serial::before {content: \"\";position: absolute;border-left: 1px solid gray;box-sizing: border-box;top: 0;bottom: 0;left: 50%;z-index: 0;}#sk-container-id-2 div.sk-serial {display: flex;flex-direction: column;align-items: center;background-color: white;padding-right: 0.2em;padding-left: 0.2em;position: relative;}#sk-container-id-2 div.sk-item {position: relative;z-index: 1;}#sk-container-id-2 div.sk-parallel {display: flex;align-items: stretch;justify-content: center;background-color: white;position: relative;}#sk-container-id-2 div.sk-item::before, #sk-container-id-2 div.sk-parallel-item::before {content: \"\";position: absolute;border-left: 1px solid gray;box-sizing: border-box;top: 0;bottom: 0;left: 50%;z-index: -1;}#sk-container-id-2 div.sk-parallel-item {display: flex;flex-direction: column;z-index: 1;position: relative;background-color: white;}#sk-container-id-2 div.sk-parallel-item:first-child::after {align-self: flex-end;width: 50%;}#sk-container-id-2 div.sk-parallel-item:last-child::after {align-self: flex-start;width: 50%;}#sk-container-id-2 div.sk-parallel-item:only-child::after {width: 0;}#sk-container-id-2 div.sk-dashed-wrapped {border: 1px dashed gray;margin: 0 0.4em 0.5em 0.4em;box-sizing: border-box;padding-bottom: 0.4em;background-color: white;}#sk-container-id-2 div.sk-label label {font-family: monospace;font-weight: bold;display: inline-block;line-height: 1.2em;}#sk-container-id-2 div.sk-label-container {text-align: center;}#sk-container-id-2 div.sk-container {/* jupyter's `normalize.less` sets `[hidden] { display: none; }` but bootstrap.min.css set `[hidden] { display: none !important; }` so we also need the `!important` here to be able to override the default hidden behavior on the sphinx rendered scikit-learn.org. See: https://github.com/scikit-learn/scikit-learn/issues/21755 */display: inline-block !important;position: relative;}#sk-container-id-2 div.sk-text-repr-fallback {display: none;}</style><div id=\"sk-container-id-2\" class=\"sk-top-container\"><div class=\"sk-text-repr-fallback\"><pre>KNeighborsClassifier()</pre><b>In a Jupyter environment, please rerun this cell to show the HTML representation or trust the notebook. <br />On GitHub, the HTML representation is unable to render, please try loading this page with nbviewer.org.</b></div><div class=\"sk-container\" hidden><div class=\"sk-item\"><div class=\"sk-estimator sk-toggleable\"><input class=\"sk-toggleable__control sk-hidden--visually\" id=\"sk-estimator-id-2\" type=\"checkbox\" checked><label for=\"sk-estimator-id-2\" class=\"sk-toggleable__label sk-toggleable__label-arrow\">KNeighborsClassifier</label><div class=\"sk-toggleable__content\"><pre>KNeighborsClassifier()</pre></div></div></div></div></div>"
      ],
      "text/plain": [
       "KNeighborsClassifier()"
      ]
     },
     "execution_count": 15,
     "metadata": {},
     "output_type": "execute_result"
    }
   ],
   "source": [
    "model2 = KNeighborsClassifier(n_neighbors=5)\n",
    "model2.fit(X_train , y_train)"
   ]
  },
  {
   "cell_type": "code",
   "execution_count": 16,
   "id": "3542736c",
   "metadata": {
    "execution": {
     "iopub.execute_input": "2024-06-13T09:43:20.934752Z",
     "iopub.status.busy": "2024-06-13T09:43:20.934292Z",
     "iopub.status.idle": "2024-06-13T09:43:20.949953Z",
     "shell.execute_reply": "2024-06-13T09:43:20.948854Z"
    },
    "papermill": {
     "duration": 0.026985,
     "end_time": "2024-06-13T09:43:20.952380",
     "exception": false,
     "start_time": "2024-06-13T09:43:20.925395",
     "status": "completed"
    },
    "tags": []
   },
   "outputs": [
    {
     "data": {
      "text/plain": [
       "array([0, 1, 0, 1, 1, 0, 1, 1, 0, 0, 0, 0, 0, 0, 1, 1, 0, 1, 1, 1, 0, 0,\n",
       "       0, 0, 0, 0, 0, 1, 0, 0, 1, 1, 1, 0, 1, 0, 0, 0, 0, 0, 0, 0, 0, 0,\n",
       "       0, 0, 0, 0, 1, 0, 0, 0, 1, 0, 1, 1, 1, 1, 1, 0, 1, 0, 0, 0, 0, 0,\n",
       "       1, 0, 0, 0, 0, 0, 1, 1, 0, 1, 0, 0, 0, 0])"
      ]
     },
     "execution_count": 16,
     "metadata": {},
     "output_type": "execute_result"
    }
   ],
   "source": [
    "y_pred = model2.predict(X_test)\n",
    "y_pred"
   ]
  },
  {
   "cell_type": "markdown",
   "id": "9427db30",
   "metadata": {
    "papermill": {
     "duration": 0.007244,
     "end_time": "2024-06-13T09:43:20.967656",
     "exception": false,
     "start_time": "2024-06-13T09:43:20.960412",
     "status": "completed"
    },
    "tags": []
   },
   "source": [
    "## Acuracy after scalling"
   ]
  },
  {
   "cell_type": "code",
   "execution_count": 17,
   "id": "3fe80e48",
   "metadata": {
    "execution": {
     "iopub.execute_input": "2024-06-13T09:43:20.984129Z",
     "iopub.status.busy": "2024-06-13T09:43:20.983730Z",
     "iopub.status.idle": "2024-06-13T09:43:20.992235Z",
     "shell.execute_reply": "2024-06-13T09:43:20.991095Z"
    },
    "papermill": {
     "duration": 0.019502,
     "end_time": "2024-06-13T09:43:20.994560",
     "exception": false,
     "start_time": "2024-06-13T09:43:20.975058",
     "status": "completed"
    },
    "tags": []
   },
   "outputs": [
    {
     "data": {
      "text/plain": [
       "0.9"
      ]
     },
     "execution_count": 17,
     "metadata": {},
     "output_type": "execute_result"
    }
   ],
   "source": [
    "accuracy_score(y_test , y_pred)"
   ]
  },
  {
   "cell_type": "markdown",
   "id": "43d1ec2b",
   "metadata": {
    "papermill": {
     "duration": 0.007142,
     "end_time": "2024-06-13T09:43:21.009490",
     "exception": false,
     "start_time": "2024-06-13T09:43:21.002348",
     "status": "completed"
    },
    "tags": []
   },
   "source": [
    "## note 0.9375 score is higher than the accuracy without scalling "
   ]
  }
 ],
 "metadata": {
  "kaggle": {
   "accelerator": "none",
   "dataSources": [
    {
     "datasetId": 5202964,
     "sourceId": 8679479,
     "sourceType": "datasetVersion"
    }
   ],
   "dockerImageVersionId": 30732,
   "isGpuEnabled": false,
   "isInternetEnabled": true,
   "language": "python",
   "sourceType": "notebook"
  },
  "kernelspec": {
   "display_name": "Python 3",
   "language": "python",
   "name": "python3"
  },
  "language_info": {
   "codemirror_mode": {
    "name": "ipython",
    "version": 3
   },
   "file_extension": ".py",
   "mimetype": "text/x-python",
   "name": "python",
   "nbconvert_exporter": "python",
   "pygments_lexer": "ipython3",
   "version": "3.10.13"
  },
  "papermill": {
   "default_parameters": {},
   "duration": 6.981532,
   "end_time": "2024-06-13T09:43:21.639265",
   "environment_variables": {},
   "exception": null,
   "input_path": "__notebook__.ipynb",
   "output_path": "__notebook__.ipynb",
   "parameters": {},
   "start_time": "2024-06-13T09:43:14.657733",
   "version": "2.5.0"
  }
 },
 "nbformat": 4,
 "nbformat_minor": 5
}
